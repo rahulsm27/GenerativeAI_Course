{
 "cells": [
  {
   "cell_type": "code",
   "execution_count": null,
   "metadata": {},
   "outputs": [],
   "source": [
    "\n",
    "# 28 Jan 2024\n",
    "# # Reserach paper to read\n",
    "# ULMfit\n",
    "# GPT\n",
    "# BERT"
   ]
  },
  {
   "cell_type": "code",
   "execution_count": null,
   "metadata": {},
   "outputs": [],
   "source": [
    "\"\"\"\n",
    "# Data ingestion (Collection ) - \n",
    "scrappping\n",
    "\n",
    "# Data pre processing \n",
    "Cleaning\n",
    "    (lower caseStemming, lemmetization, tokenization, removing html url white space punctuation)\n",
    "    POS tagging\n",
    "    NER \n",
    "    chunking\n",
    "    conference resolution\n",
    "    emoji revmoal\n",
    "Encoding \n",
    "\n",
    "Embedding\n",
    "\n",
    "\n",
    "\"\"\""
   ]
  }
 ],
 "metadata": {
  "language_info": {
   "name": "python"
  },
  "orig_nbformat": 4
 },
 "nbformat": 4,
 "nbformat_minor": 2
}
