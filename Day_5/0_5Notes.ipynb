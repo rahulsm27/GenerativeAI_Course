{
 "cells": [
  {
   "cell_type": "code",
   "execution_count": null,
   "metadata": {},
   "outputs": [],
   "source": [
    "# Data pre processing techniques\n",
    "# nltk and spacy\n",
    "# lemmatizaton and stemming\n",
    "\n",
    "# stop words removal, punctuation removal, emoji removal, tokenization, slang replacmeent, l"
   ]
  },
  {
   "cell_type": "code",
   "execution_count": null,
   "metadata": {},
   "outputs": [],
   "source": [
    "# Assignment\n",
    "\n",
    "# tokenization\n",
    "# lowercase\n",
    "# upper case\n",
    "# emojis\n",
    "# punctuations\n",
    "# html url\n",
    "# stopword\n",
    "# abrrevatoins or slang\n",
    "\n",
    "# steeming and lemetization\n",
    "\n",
    "# spelling correction\n",
    "# whitspace"
   ]
  }
 ],
 "metadata": {
  "language_info": {
   "name": "python"
  },
  "orig_nbformat": 4
 },
 "nbformat": 4,
 "nbformat_minor": 2
}
