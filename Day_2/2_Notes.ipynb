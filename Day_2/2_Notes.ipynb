{
 "cells": [
  {
   "cell_type": "code",
   "execution_count": null,
   "metadata": {},
   "outputs": [],
   "source": [
    "# Roadmap\n",
    "\n",
    "# Prerequisite\n",
    "\n",
    "# Fundamentals\n",
    "\n",
    "# Core Generative model\n",
    "\n",
    "\n"
   ]
  },
  {
   "cell_type": "code",
   "execution_count": null,
   "metadata": {},
   "outputs": [],
   "source": [
    "\"\"\"\n",
    "Gen AI generates new data based on training samples.\n",
    "They can generate image, text, audio, videos etc data as output\n",
    "\n",
    "Generative Image Model GIM (LIM) (GANS, Various diffusion models)\n",
    "\n",
    "Generative Language Model GLM (LLMS)\n",
    "\n",
    "    - Image to Image generation\n",
    "    - text to image generation\n",
    "\n",
    "    - text to text\n",
    "    - image to text\n",
    "\n",
    "    \n",
    "Frameworks\n",
    "    LangChain\n",
    "    Chanlit\n",
    "    LLamaIndex\n",
    "\n",
    "\n",
    "Vector Databese\n",
    "    ChromaDB\n",
    "    Waviet\n",
    "    Pinecon\n",
    "    OpenAI Faiss\n",
    "\n",
    "Advance Projects\n",
    "    RLHF\n",
    "    RAG\n",
    "    PEFT\n",
    "    Adaptive Ranking - LoRa Qlora\n",
    "    Evaluation of LLMS\n",
    "\n",
    "Omdena\n",
    "Lablab.ai    \n",
    "\"\"\""
   ]
  },
  {
   "cell_type": "code",
   "execution_count": null,
   "metadata": {},
   "outputs": [],
   "source": []
  },
  {
   "cell_type": "code",
   "execution_count": null,
   "metadata": {},
   "outputs": [],
   "source": []
  },
  {
   "cell_type": "code",
   "execution_count": null,
   "metadata": {},
   "outputs": [],
   "source": []
  },
  {
   "cell_type": "code",
   "execution_count": null,
   "metadata": {},
   "outputs": [],
   "source": []
  },
  {
   "cell_type": "code",
   "execution_count": null,
   "metadata": {},
   "outputs": [],
   "source": []
  },
  {
   "cell_type": "code",
   "execution_count": null,
   "metadata": {},
   "outputs": [],
   "source": []
  },
  {
   "cell_type": "code",
   "execution_count": null,
   "metadata": {},
   "outputs": [],
   "source": []
  },
  {
   "cell_type": "code",
   "execution_count": null,
   "metadata": {},
   "outputs": [],
   "source": []
  },
  {
   "cell_type": "code",
   "execution_count": null,
   "metadata": {},
   "outputs": [],
   "source": []
  }
 ],
 "metadata": {
  "language_info": {
   "name": "python"
  },
  "orig_nbformat": 4
 },
 "nbformat": 4,
 "nbformat_minor": 2
}
