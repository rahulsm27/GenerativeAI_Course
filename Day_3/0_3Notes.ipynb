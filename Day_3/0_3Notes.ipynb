{
 "cells": [
  {
   "cell_type": "code",
   "execution_count": null,
   "metadata": {},
   "outputs": [],
   "source": [
    "\"\"\"\n",
    "27.04.2024\n",
    "\n",
    "ANN, CNN, RNN , LSTM, GRU basics\n",
    "\n",
    "\n",
    "One to many\n",
    "    CNN for image processing\n",
    "    Image captioning\n",
    " \n",
    "Many to One\n",
    "    Classification\n",
    "\n",
    "Many to many\n",
    "    Synchronize (same length)\n",
    "        NER (named entity recognition)\n",
    "        POS (part of speech)\n",
    "\n",
    "    Asynchronize (Different length)\n",
    "        Machine translation\n",
    "\n",
    "\"\"\""
   ]
  },
  {
   "cell_type": "markdown",
   "metadata": {},
   "source": [
    "![Alt text](image.png)"
   ]
  },
  {
   "cell_type": "code",
   "execution_count": null,
   "metadata": {},
   "outputs": [],
   "source": [
    "# one hidden state not sufficient"
   ]
  },
  {
   "cell_type": "markdown",
   "metadata": {},
   "source": [
    "![Alt text](image-3.png)"
   ]
  },
  {
   "cell_type": "code",
   "execution_count": null,
   "metadata": {},
   "outputs": [],
   "source": [
    "# Attention\n",
    "# context vector takes all cells’ outputs as input to compute the probability distribution of source language words for each single word decoder wants to genera\n",
    "# sequence processing -> computationally challenging"
   ]
  },
  {
   "cell_type": "markdown",
   "metadata": {},
   "source": [
    "![Alt text](image-1.png)"
   ]
  },
  {
   "cell_type": "markdown",
   "metadata": {},
   "source": []
  },
  {
   "cell_type": "code",
   "execution_count": null,
   "metadata": {},
   "outputs": [],
   "source": [
    "# Language modelling"
   ]
  }
 ],
 "metadata": {
  "language_info": {
   "name": "python"
  },
  "orig_nbformat": 4
 },
 "nbformat": 4,
 "nbformat_minor": 2
}
