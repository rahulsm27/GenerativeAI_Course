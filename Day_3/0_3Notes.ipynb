{
 "cells": [
  {
   "cell_type": "code",
   "execution_count": null,
   "metadata": {},
   "outputs": [],
   "source": [
    "\"\"\"\n",
    "One to many\n",
    "    CNN for image processing\n",
    "    Image captioning\n",
    " \n",
    "Many to One\n",
    "    Classification\n",
    "\n",
    "Many to many\n",
    "    Synchronize (same length)\n",
    "        NER (named entity recognition)\n",
    "        POS (part of speech)\n",
    "\n",
    "    Asynchronize (Different length)\n",
    "        Machine translation\n",
    "\n",
    "\"\"\""
   ]
  }
 ],
 "metadata": {
  "language_info": {
   "name": "python"
  },
  "orig_nbformat": 4
 },
 "nbformat": 4,
 "nbformat_minor": 2
}
